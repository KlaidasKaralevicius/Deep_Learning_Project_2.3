{
  "cells": [
    {
      "cell_type": "markdown",
      "metadata": {
        "id": "view-in-github",
        "colab_type": "text"
      },
      "source": [
        "<a href=\"https://colab.research.google.com/github/KlaidasKaralevicius/Deep_Learning_Project_2.3/blob/main/cnn_Transfer_learning.ipynb\" target=\"_parent\"><img src=\"https://colab.research.google.com/assets/colab-badge.svg\" alt=\"Open In Colab\"/></a>"
      ]
    },
    {
      "cell_type": "markdown",
      "source": [],
      "metadata": {
        "id": "Zbhz8jh897wZ"
      }
    },
    {
      "cell_type": "code",
      "execution_count": 7,
      "metadata": {
        "id": "9rltzB-UaZlh"
      },
      "outputs": [],
      "source": [
        "import numpy as np\n",
        "import tensorflow as tf\n",
        "from tensorflow.keras import datasets, layers, models\n",
        "import tensorflow_hub as hub\n",
        "import PIL.Image as Image\n",
        "import matplotlib.pyplot as plt"
      ]
    },
    {
      "cell_type": "markdown",
      "metadata": {
        "id": "x-kUdsYr0B9k"
      },
      "source": [
        "<br><br>\n",
        "\n",
        "---\n",
        "#<font color='SeaGreen'>Chapter 1. If you don't have the model saved on disk yet, then we will create the model, train it and save it.</font>\n",
        "\n",
        ">>*If you already have a model (saved_model_CIFAR10.zip) on disk then go to the next chapter*\n",
        "\n",
        "\n",
        "\n"
      ]
    },
    {
      "cell_type": "markdown",
      "source": [
        "###<font color='SeaGreen'>Step 1. Download and prepare the CIFAR10 dataset</font>"
      ],
      "metadata": {
        "id": "IP4VgN2H6-XV"
      }
    },
    {
      "cell_type": "code",
      "source": [
        "\n",
        "(train_images, train_labels), (test_images, test_labels) = datasets.cifar10.load_data()\n",
        "train_images, test_images = train_images / 255.0, test_images / 255.0\n",
        "class_names = ['airplane', 'automobile', 'bird', 'cat', 'deer', 'dog', 'frog', 'horse', 'ship', 'truck']\n",
        "\n"
      ],
      "metadata": {
        "id": "td1I3LuxWREd",
        "outputId": "faf0189d-5e4c-4d64-a275-93ba7368dfef",
        "colab": {
          "base_uri": "https://localhost:8080/",
          "height": 89
        }
      },
      "execution_count": 58,
      "outputs": [
        {
          "output_type": "error",
          "ename": "KeyboardInterrupt",
          "evalue": "",
          "traceback": [
            "\u001b[0;31m---------------------------------------------------------------------------\u001b[0m",
            "\u001b[0;31mKeyboardInterrupt\u001b[0m                         Traceback (most recent call last)",
            "\u001b[0;31mKeyboardInterrupt\u001b[0m: "
          ]
        }
      ]
    },
    {
      "cell_type": "code",
      "execution_count": null,
      "metadata": {
        "id": "F1aMw5-y0CL8"
      },
      "outputs": [],
      "source": [
        "feature_extractor_model = \"https://tfhub.dev/google/imagenet/efficientnet_v2_imagenet21k_b1/feature_vector/2\"\n",
        "IMAGE_SHAPE = (240, 240)\n",
        "feature_extractor_layer = hub.KerasLayer( feature_extractor_model, input_shape=(IMAGE_SHAPE[0], IMAGE_SHAPE[1], 3),  trainable=False)"
      ]
    },
    {
      "cell_type": "code",
      "source": [
        "!pip install -q tf_keras"
      ],
      "metadata": {
        "id": "AcuijM9NPi-l"
      },
      "execution_count": 7,
      "outputs": []
    },
    {
      "cell_type": "code",
      "source": [
        "import tf_keras"
      ],
      "metadata": {
        "id": "jETBIlQO80a8"
      },
      "execution_count": 4,
      "outputs": []
    },
    {
      "cell_type": "code",
      "source": [
        "\n",
        "\n",
        "num_classes = len(class_names)\n",
        "\n",
        "resize = tf_keras.layers.Resizing(IMAGE_SHAPE[0], IMAGE_SHAPE[1])\n",
        "\n",
        "model = tf_keras.Sequential([\n",
        "  resize,\n",
        "  feature_extractor_layer,\n",
        "  tf_keras.layers.Dense(num_classes)\n",
        "])\n",
        "\n",
        "model.compile(optimizer='adam', loss=tf.keras.losses.SparseCategoricalCrossentropy(from_logits=True),  metrics=['accuracy'])"
      ],
      "metadata": {
        "id": "mY29NotKPhW1"
      },
      "execution_count": null,
      "outputs": []
    },
    {
      "cell_type": "code",
      "execution_count": null,
      "metadata": {
        "id": "aui0oqae1LZA"
      },
      "outputs": [],
      "source": [
        "'''\n",
        "num_classes = len(class_names)\n",
        "\n",
        "resize = tf.keras.layers.Resizing(IMAGE_SHAPE[0], IMAGE_SHAPE[1])\n",
        "\n",
        "model = tf.keras.Sequential([\n",
        "  resize,\n",
        "  feature_extractor_layer,\n",
        "  tf.keras.layers.Dense(num_classes)\n",
        "])\n",
        "\n",
        "model.compile(optimizer='adam', loss=tf.keras.losses.SparseCategoricalCrossentropy(from_logits=True),  metrics=['accuracy'])\n",
        "'''"
      ]
    },
    {
      "cell_type": "code",
      "execution_count": null,
      "metadata": {
        "id": "1z5O_aK99LNN"
      },
      "outputs": [],
      "source": [
        "model.build(input_shape=(None , 32, 32, 3))\n",
        "model.summary()"
      ]
    },
    {
      "cell_type": "markdown",
      "source": [
        "## model.fit"
      ],
      "metadata": {
        "id": "N1IkPsDM50SE"
      }
    },
    {
      "cell_type": "code",
      "execution_count": null,
      "metadata": {
        "id": "0uEsLZ2sh-U0"
      },
      "outputs": [],
      "source": [
        "history = model.fit(train_images, train_labels, epochs=1, validation_data=(test_images, test_labels))"
      ]
    },
    {
      "cell_type": "code",
      "execution_count": null,
      "metadata": {
        "id": "piHkUn77YwP1"
      },
      "outputs": [],
      "source": [
        "# after augment and learning rate reduce  0.9515           after 11  0.9089   after 8 epochs 0.9183   after 2 epochs accuracy: 0.877       after 5 epochs   0.91259\n",
        "\n",
        "test_loss, test_acc = model.evaluate(test_images ,  test_labels  )\n",
        "print(test_acc)"
      ]
    },
    {
      "cell_type": "code",
      "execution_count": null,
      "metadata": {
        "id": "R5SmNiXwctsY"
      },
      "outputs": [],
      "source": [
        "export_path = \"saved_model_CIFAR10\"\n",
        "model.save(export_path)\n",
        "!zip -r saved_model_CIFAR10.zip saved_model_CIFAR10\n"
      ]
    },
    {
      "cell_type": "markdown",
      "metadata": {
        "id": "1W3rqiWMZXz2"
      },
      "source": [
        "<br><br>\n",
        "\n",
        "---\n",
        "###<font color='SeaGreen'>Let's plot the first 100 images </font>\n"
      ]
    },
    {
      "cell_type": "code",
      "execution_count": null,
      "metadata": {
        "id": "TvIFn4fYJRxz"
      },
      "outputs": [],
      "source": [
        "'''img = train_images[4-1]\n",
        "img = tf.expand_dims(img, axis=0)\n",
        "\n",
        "result = model.predict(img)\n",
        "\n",
        "predicted_class = tf.math.argmax(result[0], axis=-1)\n",
        "predicted_class_name = class_names[predicted_class]\n",
        "predicted_class_name'''"
      ]
    },
    {
      "cell_type": "code",
      "execution_count": null,
      "metadata": {
        "id": "5Kk9IT18bKsP"
      },
      "outputs": [],
      "source": [
        "%%capture\n",
        "\n",
        "predicted_class_name = [''] * 100\n",
        "\n",
        "for i in range(100):\n",
        "    img = tf.expand_dims(test_images[i], axis=0)\n",
        "    result = model.predict(img);\n",
        "\n",
        "    predicted_class = tf.math.argmax(result[0], axis=-1)\n",
        "    predicted_class_name[i] = class_names[predicted_class]\n",
        "\n"
      ]
    },
    {
      "cell_type": "code",
      "execution_count": null,
      "metadata": {
        "id": "1yCD88I1ZQ-M"
      },
      "outputs": [],
      "source": [
        "\n",
        "plt.figure(figsize=(13,13))\n",
        "for i in range(100):\n",
        "    plt.subplot(10,10,i+1)\n",
        "    plt.xticks([])\n",
        "    plt.yticks([])\n",
        "    plt.grid(False)\n",
        "    plt.imshow(test_images[i])\n",
        "\n",
        "    if class_names[test_labels[i][0]]==predicted_class_name[i]:\n",
        "      plt.xlabel(class_names[test_labels[i][0]]+'/'+predicted_class_name[i], color='green', fontsize=8)\n",
        "    else:\n",
        "      plt.xlabel(class_names[test_labels[i][0]]+'/'+predicted_class_name[i], color='red', fontsize=9)\n",
        "\n",
        "plt.show()"
      ]
    },
    {
      "cell_type": "markdown",
      "metadata": {
        "id": "NwvWKvAlJHxZ"
      },
      "source": [
        "\n",
        "<br><br><br><br>\n",
        "\n",
        "---\n",
        "#<font color='SeaGreen'>Chapter 2. Use data augmentation</font>\n",
        "\n"
      ]
    },
    {
      "cell_type": "code",
      "source": [
        "\n",
        "# (train_images, train_labels), (test_images, test_labels) = datasets.cifar10.load_data()\n",
        "# train_images, test_images = train_images / 255.0, test_images / 255.0\n",
        "# class_names = ['airplane', 'automobile', 'bird', 'cat', 'deer', 'dog', 'frog', 'horse', 'ship', 'truck']\n"
      ],
      "metadata": {
        "id": "DVLDMpEu3f0Q"
      },
      "execution_count": null,
      "outputs": []
    },
    {
      "cell_type": "code",
      "source": [
        "export_path = \"saved_model_CIFAR10\"\n",
        "!unzip saved_model_CIFAR10.zip\n"
      ],
      "metadata": {
        "id": "D9wj80sVDzAD",
        "colab": {
          "base_uri": "https://localhost:8080/"
        },
        "outputId": "36444203-3518-455c-ae12-d2d11048c792"
      },
      "execution_count": 2,
      "outputs": [
        {
          "output_type": "stream",
          "name": "stdout",
          "text": [
            "Archive:  saved_model_CIFAR10.zip\n",
            "   creating: saved_model_CIFAR10/\n",
            " extracting: saved_model_CIFAR10/fingerprint.pb  \n",
            "   creating: saved_model_CIFAR10/assets/\n",
            "  inflating: saved_model_CIFAR10/keras_metadata.pb  \n",
            "   creating: saved_model_CIFAR10/variables/\n",
            "  inflating: saved_model_CIFAR10/variables/variables.index  \n",
            "  inflating: saved_model_CIFAR10/variables/variables.data-00000-of-00001  \n",
            "  inflating: saved_model_CIFAR10/saved_model.pb  \n"
          ]
        }
      ]
    },
    {
      "cell_type": "code",
      "source": [
        "model = tf_keras.models.load_model(export_path)\n",
        "\n",
        "model.trainable = True\n",
        "\n",
        "!rm -r saved_model_CIFAR10\n",
        "# !rm saved_model_CIFAR10.zip\n",
        "!ls"
      ],
      "metadata": {
        "id": "djyO7YbKTg-N",
        "outputId": "1226718e-f08b-4186-8319-fa271861a2a7",
        "colab": {
          "base_uri": "https://localhost:8080/"
        }
      },
      "execution_count": 5,
      "outputs": [
        {
          "output_type": "stream",
          "name": "stdout",
          "text": [
            "Deep_Learning_Project_2.1  sample_data\tsaved_model_CIFAR10.zip\n"
          ]
        }
      ]
    },
    {
      "cell_type": "code",
      "execution_count": 8,
      "metadata": {
        "id": "Z-PpDAWdJRrk"
      },
      "outputs": [],
      "source": [
        "data_augmentation = tf.keras.Sequential([\n",
        "  tf.keras.layers.RandomFlip('horizontal'),\n",
        "  tf.keras.layers.RandomRotation(0.1),\n",
        "  tf.keras.layers.RandomBrightness(factor=0.1, value_range=(0, 1)),\n",
        "  #tf.keras.layers.RandomHeight(factor=0.1),\n",
        "  #tf.keras.layers.RandomWidth(factor=0.1),\n",
        "  ##tf.keras.layers.RandomContrast(factor=0.1),\n",
        "  tf.keras.layers.RandomTranslation(0.1, 0.1),\n",
        "  #tf.keras.layers.RandomZoom(0.1, 0.1),\n",
        "])"
      ]
    },
    {
      "cell_type": "code",
      "source": [
        "# (train_images, train_labels), (test_images, test_labels) = datasets.cifar10.load_data()\n",
        "# train_images, test_images = train_images / 255.0, test_images / 255.0\n",
        "# class_names = ['airplane', 'automobile', 'bird', 'cat', 'deer', 'dog', 'frog', 'horse', 'ship', 'truck']\n",
        "# train_images=data_augmentation(train_images)"
      ],
      "metadata": {
        "id": "KZnTt-Rj9fgL"
      },
      "execution_count": null,
      "outputs": []
    },
    {
      "cell_type": "code",
      "source": [
        "!git clone https://github.com/KlaidasKaralevicius/Deep_Learning_Project_2.1.git\n",
        "\n",
        "train_dir = 'Deep_Learning_Project_2.1/afhq/train'\n",
        "test_dir = 'Deep_Learning_Project_2.1/afhq/val'\n",
        "\n",
        "train_dataset = tf.keras.preprocessing.image_dataset_from_directory(\n",
        "    train_dir,\n",
        "    image_size=(240, 240),\n",
        ")\n",
        "\n",
        "test_dataset = tf.keras.preprocessing.image_dataset_from_directory(\n",
        "    test_dir,\n",
        "    image_size=(240, 240),\n",
        ")\n",
        "\n",
        "class_names = ['cat', 'dog', 'wild']"
      ],
      "metadata": {
        "id": "jqLhWjDj6rny",
        "outputId": "acdcbe7c-6f9c-45b2-cfd1-05c8d06dd0d4",
        "colab": {
          "base_uri": "https://localhost:8080/"
        }
      },
      "execution_count": 10,
      "outputs": [
        {
          "output_type": "stream",
          "name": "stdout",
          "text": [
            "fatal: destination path 'Deep_Learning_Project_2.1' already exists and is not an empty directory.\n",
            "Found 14630 files belonging to 3 classes.\n",
            "Found 1500 files belonging to 3 classes.\n"
          ]
        }
      ]
    },
    {
      "cell_type": "code",
      "source": [
        "train_images = []\n",
        "train_labels = []\n",
        "\n",
        "for images, labels in train_dataset:\n",
        "    train_images.append(images.numpy())\n",
        "    train_labels.append(labels.numpy())\n",
        "\n",
        "train_images = np.concatenate(train_images, axis=0)\n",
        "train_labels = np.concatenate(train_labels, axis=0)"
      ],
      "metadata": {
        "id": "Ppcjor-x6c_n",
        "outputId": "53d1c8d2-17a8-4ec5-95a7-ac34bd228bf7",
        "colab": {
          "base_uri": "https://localhost:8080/",
          "height": 211
        }
      },
      "execution_count": 1,
      "outputs": [
        {
          "output_type": "error",
          "ename": "NameError",
          "evalue": "name 'train_dataset' is not defined",
          "traceback": [
            "\u001b[0;31m---------------------------------------------------------------------------\u001b[0m",
            "\u001b[0;31mNameError\u001b[0m                                 Traceback (most recent call last)",
            "\u001b[0;32m<ipython-input-1-95b7c0a2e866>\u001b[0m in \u001b[0;36m<cell line: 4>\u001b[0;34m()\u001b[0m\n\u001b[1;32m      2\u001b[0m \u001b[0mtrain_labels\u001b[0m \u001b[0;34m=\u001b[0m \u001b[0;34m[\u001b[0m\u001b[0;34m]\u001b[0m\u001b[0;34m\u001b[0m\u001b[0;34m\u001b[0m\u001b[0m\n\u001b[1;32m      3\u001b[0m \u001b[0;34m\u001b[0m\u001b[0m\n\u001b[0;32m----> 4\u001b[0;31m \u001b[0;32mfor\u001b[0m \u001b[0mimages\u001b[0m\u001b[0;34m,\u001b[0m \u001b[0mlabels\u001b[0m \u001b[0;32min\u001b[0m \u001b[0mtrain_dataset\u001b[0m\u001b[0;34m:\u001b[0m\u001b[0;34m\u001b[0m\u001b[0;34m\u001b[0m\u001b[0m\n\u001b[0m\u001b[1;32m      5\u001b[0m     \u001b[0mtrain_images\u001b[0m\u001b[0;34m.\u001b[0m\u001b[0mappend\u001b[0m\u001b[0;34m(\u001b[0m\u001b[0mimages\u001b[0m\u001b[0;34m.\u001b[0m\u001b[0mnumpy\u001b[0m\u001b[0;34m(\u001b[0m\u001b[0;34m)\u001b[0m\u001b[0;34m)\u001b[0m\u001b[0;34m\u001b[0m\u001b[0;34m\u001b[0m\u001b[0m\n\u001b[1;32m      6\u001b[0m     \u001b[0mtrain_labels\u001b[0m\u001b[0;34m.\u001b[0m\u001b[0mappend\u001b[0m\u001b[0;34m(\u001b[0m\u001b[0mlabels\u001b[0m\u001b[0;34m.\u001b[0m\u001b[0mnumpy\u001b[0m\u001b[0;34m(\u001b[0m\u001b[0;34m)\u001b[0m\u001b[0;34m)\u001b[0m\u001b[0;34m\u001b[0m\u001b[0;34m\u001b[0m\u001b[0m\n",
            "\u001b[0;31mNameError\u001b[0m: name 'train_dataset' is not defined"
          ]
        }
      ]
    },
    {
      "cell_type": "code",
      "source": [
        "test_images = []\n",
        "test_labels = []\n",
        "\n",
        "for images, labels in test_dataset:\n",
        "    test_images.append(images.numpy())\n",
        "    test_labels.append(labels.numpy())\n",
        "\n",
        "test_images = np.concatenate(test_images, axis=0)\n",
        "test_labels = np.concatenate(test_labels, axis=0)"
      ],
      "metadata": {
        "id": "45K6TwHU-Cxm"
      },
      "execution_count": null,
      "outputs": []
    },
    {
      "cell_type": "code",
      "source": [
        "train_images, test_images = train_images / 255.0, test_images / 255.0\n",
        "train_images = data_augmentation(train_images)"
      ],
      "metadata": {
        "id": "fFA-EGTQ-EDV"
      },
      "execution_count": null,
      "outputs": []
    },
    {
      "cell_type": "code",
      "source": [
        "# 0.9537   0.9406\n",
        "history = model.fit(train_images, train_labels, epochs=1, validation_data=(test_images, test_labels))"
      ],
      "metadata": {
        "id": "SyK9nKBhEkaM",
        "colab": {
          "base_uri": "https://localhost:8080/"
        },
        "outputId": "fef09800-12af-48a3-c205-74b71fc64ffc"
      },
      "execution_count": 56,
      "outputs": [
        {
          "output_type": "stream",
          "name": "stdout",
          "text": [
            "458/458 [==============================] - 47s 75ms/step - loss: 1.1467 - accuracy: 0.3364 - val_loss: 176.3505 - val_accuracy: 0.3260\n"
          ]
        }
      ]
    },
    {
      "cell_type": "code",
      "execution_count": 57,
      "metadata": {
        "id": "AjrbMIk0sx-R",
        "colab": {
          "base_uri": "https://localhost:8080/",
          "height": 297
        },
        "outputId": "2e6d5c85-7510-4424-cc1b-9ee1da815365"
      },
      "outputs": [
        {
          "output_type": "error",
          "ename": "IndexError",
          "evalue": "invalid index to scalar variable.",
          "traceback": [
            "\u001b[0;31m---------------------------------------------------------------------------\u001b[0m",
            "\u001b[0;31mIndexError\u001b[0m                                Traceback (most recent call last)",
            "\u001b[0;32m<ipython-input-57-4c0caf349f76>\u001b[0m in \u001b[0;36m<cell line: 2>\u001b[0;34m()\u001b[0m\n\u001b[1;32m      6\u001b[0m     \u001b[0mplt\u001b[0m\u001b[0;34m.\u001b[0m\u001b[0mgrid\u001b[0m\u001b[0;34m(\u001b[0m\u001b[0;32mFalse\u001b[0m\u001b[0;34m)\u001b[0m\u001b[0;34m\u001b[0m\u001b[0;34m\u001b[0m\u001b[0m\n\u001b[1;32m      7\u001b[0m     \u001b[0mplt\u001b[0m\u001b[0;34m.\u001b[0m\u001b[0mimshow\u001b[0m\u001b[0;34m(\u001b[0m\u001b[0mtrain_images\u001b[0m\u001b[0;34m[\u001b[0m\u001b[0mi\u001b[0m\u001b[0;34m]\u001b[0m\u001b[0;34m)\u001b[0m\u001b[0;34m\u001b[0m\u001b[0;34m\u001b[0m\u001b[0m\n\u001b[0;32m----> 8\u001b[0;31m     \u001b[0mplt\u001b[0m\u001b[0;34m.\u001b[0m\u001b[0mxlabel\u001b[0m\u001b[0;34m(\u001b[0m\u001b[0mclass_names\u001b[0m\u001b[0;34m[\u001b[0m\u001b[0mtrain_labels\u001b[0m\u001b[0;34m[\u001b[0m\u001b[0mi\u001b[0m\u001b[0;34m]\u001b[0m\u001b[0;34m[\u001b[0m\u001b[0;36m0\u001b[0m\u001b[0;34m]\u001b[0m\u001b[0;34m]\u001b[0m\u001b[0;34m)\u001b[0m\u001b[0;34m\u001b[0m\u001b[0;34m\u001b[0m\u001b[0m\n\u001b[0m\u001b[1;32m      9\u001b[0m \u001b[0mplt\u001b[0m\u001b[0;34m.\u001b[0m\u001b[0mshow\u001b[0m\u001b[0;34m(\u001b[0m\u001b[0;34m)\u001b[0m\u001b[0;34m\u001b[0m\u001b[0;34m\u001b[0m\u001b[0m\n",
            "\u001b[0;31mIndexError\u001b[0m: invalid index to scalar variable."
          ]
        },
        {
          "output_type": "display_data",
          "data": {
            "text/plain": [
              "<Figure size 1300x1300 with 1 Axes>"
            ],
            "image/png": "[encoded data removed]"
          },
          "metadata": {}
        }
      ],
      "source": [
        "\n",
        "plt.figure(figsize=(13,13))\n",
        "for i in range(100):\n",
        "    plt.subplot(10,10,i+1)\n",
        "    plt.xticks([])\n",
        "    plt.yticks([])\n",
        "    plt.grid(False)\n",
        "    plt.imshow(train_images[i])\n",
        "    plt.xlabel(class_names[train_labels[i][0]])\n",
        "plt.show()"
      ]
    },
    {
      "cell_type": "markdown",
      "source": [
        "# Chapter 3. Check data info"
      ],
      "metadata": {
        "id": "VLlZGDDH2wod"
      }
    },
    {
      "cell_type": "code",
      "execution_count": null,
      "metadata": {
        "colab": {
          "base_uri": "https://localhost:8080/"
        },
        "id": "a8uq_aq_cqVp",
        "outputId": "a28a43ca-e91f-4f8e-b364-634875a36bb5"
      },
      "outputs": [
        {
          "output_type": "execute_result",
          "data": {
            "text/plain": [
              "True"
            ]
          },
          "metadata": {},
          "execution_count": 21
        }
      ],
      "source": [
        " model.layers[2].trainable"
      ]
    },
    {
      "cell_type": "code",
      "execution_count": null,
      "metadata": {
        "id": "nNZmqMT5dC0d",
        "colab": {
          "base_uri": "https://localhost:8080/"
        },
        "outputId": "f6a9b5fa-474a-418f-fcc5-665c9c085d09"
      },
      "outputs": [
        {
          "output_type": "stream",
          "name": "stdout",
          "text": [
            "443\n",
            "<tf.Variable 'efficientnetv2-b1/blocks_9/tpu_batch_normalization/beta:0' shape=(384,) dtype=float32, numpy=\n",
            "array([ 6.91643804e-02,  6.81536615e-01,  8.71816456e-01,  2.09180188e+00,\n",
            "       -1.20513014e-01, -1.44292188e+00, -3.77682149e-01,  9.95514810e-01,\n",
            "       -7.54696503e-02,  1.71084738e+00,  9.80638564e-01,  1.30091202e+00,\n",
            "        6.47561789e-01, -6.24314509e-02,  7.15203524e-01, -1.51085305e+00,\n",
            "        1.05137587e+00,  7.47831821e-01, -1.61254871e+00, -8.82656723e-02,\n",
            "        8.07817519e-01, -1.89381436e-01, -1.30040252e+00,  8.48712862e-01,\n",
            "        1.60625648e+00,  4.22996372e-01, -9.72481966e-01,  5.98822534e-02,\n",
            "        2.15416878e-01,  4.24745828e-02,  2.98648551e-02,  3.82486314e-01,\n",
            "       -8.66762936e-01,  1.31333554e+00,  4.88786288e-02,  1.62681448e+00,\n",
            "       -1.13823259e+00, -2.15501690e+00,  7.49236792e-02, -9.05199051e-01,\n",
            "        1.48124054e-01, -8.73643637e-01,  1.27129585e-01, -1.65918604e-01,\n",
            "        2.41206493e-04, -4.03847605e-01, -2.88199973e+00, -2.62949884e-01,\n",
            "       -1.03866363e+00,  7.40380108e-01,  1.20752178e-01,  6.13634109e-01,\n",
            "       -2.23801637e+00,  6.14724755e-01,  1.09442544e+00,  1.96558852e-02,\n",
            "        2.32232118e+00,  6.44797325e-01, -1.18302582e-02,  1.38568079e+00,\n",
            "       -2.00680438e-02, -2.40203459e-02,  2.10823208e-01, -4.48897749e-01,\n",
            "        1.15780316e-01,  1.28947794e+00,  8.55892152e-02, -5.72892010e-01,\n",
            "        9.97821316e-02,  4.89693314e-01,  5.21658398e-02,  8.24350789e-02,\n",
            "        5.43917179e-01,  1.72058833e+00, -2.74272293e-01,  4.33629632e-01,\n",
            "        6.15269281e-02,  8.89489174e-01,  5.32030798e-02,  5.52704275e-01,\n",
            "       -2.82757252e-01,  3.33108127e-01, -1.11618245e+00,  7.30733454e-01,\n",
            "       -4.49936576e-02,  1.03387043e-01, -4.79250878e-01,  7.57745281e-02,\n",
            "        6.75031364e-01,  3.78651768e-02,  1.41898151e-02,  5.84917329e-02,\n",
            "        9.27638784e-02,  4.36774194e-02, -4.99163345e-02,  1.78310788e+00,\n",
            "        5.58048785e-01,  9.13205564e-01,  9.77099407e-03,  1.47301316e-01,\n",
            "        4.89762658e-03, -1.16717601e+00,  1.21017611e+00,  7.34891713e-01,\n",
            "        7.42710054e-01, -1.32115531e+00,  1.01014674e+00, -7.96902955e-01,\n",
            "       -3.27106416e-02,  4.58939672e-02,  6.68931305e-02,  1.89558342e-01,\n",
            "        9.42309380e-01, -1.43087220e+00, -1.79164505e+00, -4.96864080e-01,\n",
            "       -6.36560917e-01,  2.01469623e-02,  1.88871518e-01,  6.96485996e-01,\n",
            "       -3.89016807e-01,  3.56114715e-01, -4.33785647e-01,  4.94082332e-01,\n",
            "        3.49159509e-01,  6.84040487e-01,  5.83303869e-01,  5.42953968e-01,\n",
            "        1.02239466e+00, -4.16644067e-01,  1.18790805e+00, -8.50166678e-01,\n",
            "        3.40398073e-01,  6.79326594e-01, -1.61536008e-01,  8.57788920e-02,\n",
            "        1.41805992e-01,  9.67910111e-01,  2.77329069e-02,  2.64125109e-01,\n",
            "        4.14911583e-02, -8.51514876e-01, -1.39636004e+00, -2.86171138e-01,\n",
            "        1.21202096e-01,  1.34281471e-01,  6.23524547e-01,  1.62401462e+00,\n",
            "        9.28384483e-01,  1.48922420e+00,  4.08829629e-01, -8.72197151e-02,\n",
            "       -2.83076428e-02, -1.94280815e+00,  2.18346789e-02, -3.68404090e-02,\n",
            "       -2.43491754e-02,  4.04942721e-01, -7.46158898e-01,  2.04721913e-01,\n",
            "        7.53340781e-01,  3.42633389e-02,  4.85034138e-01,  4.83518019e-02,\n",
            "        9.87943709e-01,  7.81500101e-01,  3.39524671e-02, -1.12141028e-01,\n",
            "       -5.66772074e-02,  2.45571863e-02,  1.35213241e-01,  8.87494087e-01,\n",
            "        1.77676277e-03,  1.01227537e-02,  9.77836251e-01, -5.80939233e-01,\n",
            "       -7.80214220e-02, -1.02088057e-01, -7.06212044e-01, -3.44407232e-03,\n",
            "        1.34118664e+00, -6.95150048e-02,  1.35248542e-01, -5.30074090e-02,\n",
            "       -2.38783404e-01,  1.05082847e-01,  4.77907294e-03,  5.09930968e-01,\n",
            "        9.19903994e-01,  1.22461963e+00, -4.49579775e-01,  7.45215595e-01,\n",
            "        2.01839805e+00,  8.05097461e-01, -4.49450344e-01,  1.05060804e+00,\n",
            "       -7.07461655e-01,  9.05485600e-02,  1.01691015e-01,  1.46989214e+00,\n",
            "       -6.33453786e-01,  1.71807721e-01,  2.80493528e-01, -7.75627941e-02,\n",
            "        3.50036234e-01,  1.50345429e-03, -7.08911428e-03,  1.14374887e-02,\n",
            "       -6.01559803e-02,  9.74103957e-02, -8.66763294e-02,  1.73712999e-01,\n",
            "       -5.42545393e-02,  3.26401740e-01, -7.63275445e-01,  2.43606512e-02,\n",
            "        2.71299988e-01,  2.64933914e-01,  7.19909091e-03, -1.36315927e-01,\n",
            "        1.96992362e+00,  1.78726345e-01, -2.18941569e-02,  3.13471481e-02,\n",
            "        1.51423120e+00,  8.38903546e-01,  2.14353606e-01,  1.17056918e+00,\n",
            "        6.88187778e-02,  8.30043375e-01,  1.09622324e+00,  6.30465567e-01,\n",
            "        1.36667287e+00, -3.87339145e-02,  8.68938804e-01,  1.51996303e+00,\n",
            "        6.10248268e-01, -6.41234696e-01, -1.99177182e+00,  4.95619446e-01,\n",
            "       -4.38101478e-02,  4.15077388e-01, -9.05575380e-02,  7.38058239e-02,\n",
            "        1.45045114e+00, -2.07762766e+00, -3.42516899e-01,  2.01530170e+00,\n",
            "        2.00361991e+00, -1.35370934e+00, -7.69165099e-01,  9.08100754e-02,\n",
            "       -3.83821549e-03, -1.45863771e+00,  3.34045500e-01,  3.31976563e-01,\n",
            "        2.87895501e-01,  3.11585635e-01,  1.34315741e+00,  6.84675425e-02,\n",
            "        7.11480141e-01,  9.47754234e-02,  4.20799941e-01,  9.88284826e-01,\n",
            "        4.34759736e-01,  9.98217240e-02, -5.76146364e-01,  2.87159264e-01,\n",
            "       -2.30437264e-01,  1.47649169e+00,  1.75750482e+00, -6.30470812e-01,\n",
            "        8.30603182e-01,  1.42217293e-01,  1.44220695e-01, -7.70687580e-01,\n",
            "        1.24875498e+00,  2.38249883e-01, -3.50054234e-01, -1.29052031e+00,\n",
            "        3.26294601e-01, -2.09016532e-01,  3.90903354e-01,  9.80055630e-01,\n",
            "       -4.41651374e-01,  3.33633237e-02,  5.02558351e-01,  1.21511325e-01,\n",
            "        6.11642361e-01,  1.70100892e+00,  9.09814462e-02,  2.16499209e-01,\n",
            "       -3.01383972e-01,  3.21095139e-02, -1.14359188e+00,  8.25719297e-01,\n",
            "       -1.60810232e-01,  2.16901946e+00,  2.02316567e-01,  9.62320566e-01,\n",
            "       -1.31012976e+00,  1.69938385e-01,  6.22138381e-02, -5.01731271e-03,\n",
            "        1.05604541e+00, -1.08177388e+00, -1.76458371e+00,  3.64358485e-01,\n",
            "       -4.32245433e-01, -7.18593895e-01, -1.27848470e+00,  1.21739984e+00,\n",
            "       -1.55670416e+00,  3.65446545e-02,  1.01503832e-02,  2.14948726e+00,\n",
            "        1.76707432e-02, -1.87209606e+00,  1.23050416e+00, -1.54505169e+00,\n",
            "        1.14843047e+00,  1.73795700e+00,  1.17018080e+00,  5.54822445e-01,\n",
            "        9.16582625e-03, -5.63469864e-02,  6.55582324e-02, -1.73885345e+00,\n",
            "        1.45340443e+00, -1.12873042e+00,  1.07066464e+00,  8.45666453e-02,\n",
            "        8.75863194e-01,  9.28441808e-03, -1.59882024e-01, -3.78909111e-01,\n",
            "       -2.86552578e-01, -3.14979821e-01,  8.10464323e-02, -9.97883260e-01,\n",
            "       -8.88637543e-01, -1.25071369e-02,  9.04838562e-01, -9.82188284e-02,\n",
            "       -4.18121507e-03,  3.05959314e-01, -4.42505658e-01, -2.71658212e-01,\n",
            "       -2.63181424e+00,  1.45966184e+00, -1.62638143e-01,  6.44301549e-02,\n",
            "       -5.16709946e-02, -1.20330989e-01, -2.04112232e-02, -2.53029406e-01,\n",
            "        1.81559026e+00,  1.79861575e-01, -2.61277705e-01, -1.34834588e-01,\n",
            "       -3.48637998e-01, -2.90954206e-02,  1.58952844e+00,  4.74742323e-01,\n",
            "        3.78119536e-02,  2.15927601e+00,  1.14233702e-01,  5.47553241e-01,\n",
            "        5.61691932e-02, -5.75570941e-01,  7.91635066e-02, -1.02053666e+00,\n",
            "        2.37735912e-01, -1.39504969e-01, -1.95669842e+00,  1.63774025e+00,\n",
            "        1.22183156e+00,  4.52638149e+00,  5.88198066e-01,  1.05106711e+00,\n",
            "        8.27890038e-01, -1.96261480e-02,  2.33335316e-01,  6.84960485e-02],\n",
            "      dtype=float32)>\n"
          ]
        }
      ],
      "source": [
        "print(len(model.weights))\n",
        "print(model.weights[57])\n"
      ]
    },
    {
      "cell_type": "code",
      "execution_count": null,
      "metadata": {
        "id": "o59OEKQ-dxdX",
        "colab": {
          "base_uri": "https://localhost:8080/"
        },
        "outputId": "c7cd461c-cb6e-4d91-a5e9-95539a6710f2"
      },
      "outputs": [
        {
          "output_type": "stream",
          "name": "stdout",
          "text": [
            "0 efficientnetv2-b1/blocks_0/conv2d/kernel:0\n",
            "1 efficientnetv2-b1/blocks_0/tpu_batch_normalization/gamma:0\n",
            "2 efficientnetv2-b1/blocks_0/tpu_batch_normalization/beta:0\n",
            "3 efficientnetv2-b1/blocks_1/conv2d/kernel:0\n",
            "4 efficientnetv2-b1/blocks_1/tpu_batch_normalization/gamma:0\n",
            "5 efficientnetv2-b1/blocks_1/tpu_batch_normalization/beta:0\n",
            "6 efficientnetv2-b1/blocks_2/conv2d/kernel:0\n",
            "7 efficientnetv2-b1/blocks_2/tpu_batch_normalization/gamma:0\n",
            "8 efficientnetv2-b1/blocks_2/tpu_batch_normalization/beta:0\n",
            "9 efficientnetv2-b1/blocks_2/conv2d_1/kernel:0\n",
            "10 efficientnetv2-b1/blocks_2/tpu_batch_normalization_1/gamma:0\n",
            "11 efficientnetv2-b1/blocks_2/tpu_batch_normalization_1/beta:0\n",
            "12 efficientnetv2-b1/blocks_3/conv2d/kernel:0\n",
            "13 efficientnetv2-b1/blocks_3/tpu_batch_normalization/gamma:0\n",
            "14 efficientnetv2-b1/blocks_3/tpu_batch_normalization/beta:0\n",
            "15 efficientnetv2-b1/blocks_3/conv2d_1/kernel:0\n",
            "16 efficientnetv2-b1/blocks_3/tpu_batch_normalization_1/gamma:0\n",
            "17 efficientnetv2-b1/blocks_3/tpu_batch_normalization_1/beta:0\n",
            "18 efficientnetv2-b1/blocks_4/conv2d/kernel:0\n",
            "19 efficientnetv2-b1/blocks_4/tpu_batch_normalization/gamma:0\n",
            "20 efficientnetv2-b1/blocks_4/tpu_batch_normalization/beta:0\n",
            "21 efficientnetv2-b1/blocks_4/conv2d_1/kernel:0\n",
            "22 efficientnetv2-b1/blocks_4/tpu_batch_normalization_1/gamma:0\n",
            "23 efficientnetv2-b1/blocks_4/tpu_batch_normalization_1/beta:0\n",
            "24 efficientnetv2-b1/blocks_5/conv2d/kernel:0\n",
            "25 efficientnetv2-b1/blocks_5/tpu_batch_normalization/gamma:0\n",
            "26 efficientnetv2-b1/blocks_5/tpu_batch_normalization/beta:0\n",
            "27 efficientnetv2-b1/blocks_5/conv2d_1/kernel:0\n",
            "28 efficientnetv2-b1/blocks_5/tpu_batch_normalization_1/gamma:0\n",
            "29 efficientnetv2-b1/blocks_5/tpu_batch_normalization_1/beta:0\n",
            "30 efficientnetv2-b1/blocks_6/conv2d/kernel:0\n",
            "31 efficientnetv2-b1/blocks_6/tpu_batch_normalization/gamma:0\n",
            "32 efficientnetv2-b1/blocks_6/tpu_batch_normalization/beta:0\n",
            "33 efficientnetv2-b1/blocks_6/conv2d_1/kernel:0\n",
            "34 efficientnetv2-b1/blocks_6/tpu_batch_normalization_1/gamma:0\n",
            "35 efficientnetv2-b1/blocks_6/tpu_batch_normalization_1/beta:0\n",
            "36 efficientnetv2-b1/blocks_7/conv2d/kernel:0\n",
            "37 efficientnetv2-b1/blocks_7/tpu_batch_normalization/gamma:0\n",
            "38 efficientnetv2-b1/blocks_7/tpu_batch_normalization/beta:0\n",
            "39 efficientnetv2-b1/blocks_7/conv2d_1/kernel:0\n",
            "40 efficientnetv2-b1/blocks_7/tpu_batch_normalization_1/gamma:0\n",
            "41 efficientnetv2-b1/blocks_7/tpu_batch_normalization_1/beta:0\n",
            "42 efficientnetv2-b1/blocks_8/conv2d/kernel:0\n",
            "43 efficientnetv2-b1/blocks_8/tpu_batch_normalization/gamma:0\n",
            "44 efficientnetv2-b1/blocks_8/tpu_batch_normalization/beta:0\n",
            "45 efficientnetv2-b1/blocks_8/depthwise_conv2d/depthwise_kernel:0\n",
            "46 efficientnetv2-b1/blocks_8/tpu_batch_normalization_1/gamma:0\n",
            "47 efficientnetv2-b1/blocks_8/tpu_batch_normalization_1/beta:0\n",
            "48 efficientnetv2-b1/blocks_8/se/conv2d/kernel:0\n",
            "49 efficientnetv2-b1/blocks_8/se/conv2d/bias:0\n",
            "50 efficientnetv2-b1/blocks_8/se/conv2d_1/kernel:0\n",
            "51 efficientnetv2-b1/blocks_8/se/conv2d_1/bias:0\n",
            "52 efficientnetv2-b1/blocks_8/conv2d_1/kernel:0\n",
            "53 efficientnetv2-b1/blocks_8/tpu_batch_normalization_2/gamma:0\n",
            "54 efficientnetv2-b1/blocks_8/tpu_batch_normalization_2/beta:0\n",
            "55 efficientnetv2-b1/blocks_9/conv2d/kernel:0\n",
            "56 efficientnetv2-b1/blocks_9/tpu_batch_normalization/gamma:0\n",
            "57 efficientnetv2-b1/blocks_9/tpu_batch_normalization/beta:0\n",
            "58 efficientnetv2-b1/blocks_9/depthwise_conv2d/depthwise_kernel:0\n",
            "59 efficientnetv2-b1/blocks_9/tpu_batch_normalization_1/gamma:0\n",
            "60 efficientnetv2-b1/blocks_9/tpu_batch_normalization_1/beta:0\n",
            "61 efficientnetv2-b1/blocks_9/se/conv2d/kernel:0\n",
            "62 efficientnetv2-b1/blocks_9/se/conv2d/bias:0\n",
            "63 efficientnetv2-b1/blocks_9/se/conv2d_1/kernel:0\n",
            "64 efficientnetv2-b1/blocks_9/se/conv2d_1/bias:0\n",
            "65 efficientnetv2-b1/blocks_9/conv2d_1/kernel:0\n",
            "66 efficientnetv2-b1/blocks_9/tpu_batch_normalization_2/gamma:0\n",
            "67 efficientnetv2-b1/blocks_9/tpu_batch_normalization_2/beta:0\n",
            "68 efficientnetv2-b1/blocks_10/conv2d/kernel:0\n",
            "69 efficientnetv2-b1/blocks_10/tpu_batch_normalization/gamma:0\n",
            "70 efficientnetv2-b1/blocks_10/tpu_batch_normalization/beta:0\n",
            "71 efficientnetv2-b1/blocks_10/depthwise_conv2d/depthwise_kernel:0\n",
            "72 efficientnetv2-b1/blocks_10/tpu_batch_normalization_1/gamma:0\n",
            "73 efficientnetv2-b1/blocks_10/tpu_batch_normalization_1/beta:0\n",
            "74 efficientnetv2-b1/blocks_10/se/conv2d/kernel:0\n",
            "75 efficientnetv2-b1/blocks_10/se/conv2d/bias:0\n",
            "76 efficientnetv2-b1/blocks_10/se/conv2d_1/kernel:0\n",
            "77 efficientnetv2-b1/blocks_10/se/conv2d_1/bias:0\n",
            "78 efficientnetv2-b1/blocks_10/conv2d_1/kernel:0\n",
            "79 efficientnetv2-b1/blocks_10/tpu_batch_normalization_2/gamma:0\n",
            "80 efficientnetv2-b1/blocks_10/tpu_batch_normalization_2/beta:0\n",
            "81 efficientnetv2-b1/blocks_11/conv2d/kernel:0\n",
            "82 efficientnetv2-b1/blocks_11/tpu_batch_normalization/gamma:0\n",
            "83 efficientnetv2-b1/blocks_11/tpu_batch_normalization/beta:0\n",
            "84 efficientnetv2-b1/blocks_11/depthwise_conv2d/depthwise_kernel:0\n",
            "85 efficientnetv2-b1/blocks_11/tpu_batch_normalization_1/gamma:0\n",
            "86 efficientnetv2-b1/blocks_11/tpu_batch_normalization_1/beta:0\n",
            "87 efficientnetv2-b1/blocks_11/se/conv2d/kernel:0\n",
            "88 efficientnetv2-b1/blocks_11/se/conv2d/bias:0\n",
            "89 efficientnetv2-b1/blocks_11/se/conv2d_1/kernel:0\n",
            "90 efficientnetv2-b1/blocks_11/se/conv2d_1/bias:0\n",
            "91 efficientnetv2-b1/blocks_11/conv2d_1/kernel:0\n",
            "92 efficientnetv2-b1/blocks_11/tpu_batch_normalization_2/gamma:0\n",
            "93 efficientnetv2-b1/blocks_11/tpu_batch_normalization_2/beta:0\n",
            "94 efficientnetv2-b1/blocks_12/conv2d/kernel:0\n",
            "95 efficientnetv2-b1/blocks_12/tpu_batch_normalization/gamma:0\n",
            "96 efficientnetv2-b1/blocks_12/tpu_batch_normalization/beta:0\n",
            "97 efficientnetv2-b1/blocks_12/depthwise_conv2d/depthwise_kernel:0\n",
            "98 efficientnetv2-b1/blocks_12/tpu_batch_normalization_1/gamma:0\n",
            "99 efficientnetv2-b1/blocks_12/tpu_batch_normalization_1/beta:0\n",
            "100 efficientnetv2-b1/blocks_12/se/conv2d/kernel:0\n",
            "101 efficientnetv2-b1/blocks_12/se/conv2d/bias:0\n",
            "102 efficientnetv2-b1/blocks_12/se/conv2d_1/kernel:0\n",
            "103 efficientnetv2-b1/blocks_12/se/conv2d_1/bias:0\n",
            "104 efficientnetv2-b1/blocks_12/conv2d_1/kernel:0\n",
            "105 efficientnetv2-b1/blocks_12/tpu_batch_normalization_2/gamma:0\n",
            "106 efficientnetv2-b1/blocks_12/tpu_batch_normalization_2/beta:0\n",
            "107 efficientnetv2-b1/blocks_13/conv2d/kernel:0\n",
            "108 efficientnetv2-b1/blocks_13/tpu_batch_normalization/gamma:0\n",
            "109 efficientnetv2-b1/blocks_13/tpu_batch_normalization/beta:0\n",
            "110 efficientnetv2-b1/blocks_13/depthwise_conv2d/depthwise_kernel:0\n",
            "111 efficientnetv2-b1/blocks_13/tpu_batch_normalization_1/gamma:0\n",
            "112 efficientnetv2-b1/blocks_13/tpu_batch_normalization_1/beta:0\n",
            "113 efficientnetv2-b1/blocks_13/se/conv2d/kernel:0\n",
            "114 efficientnetv2-b1/blocks_13/se/conv2d/bias:0\n",
            "115 efficientnetv2-b1/blocks_13/se/conv2d_1/kernel:0\n",
            "116 efficientnetv2-b1/blocks_13/se/conv2d_1/bias:0\n",
            "117 efficientnetv2-b1/blocks_13/conv2d_1/kernel:0\n",
            "118 efficientnetv2-b1/blocks_13/tpu_batch_normalization_2/gamma:0\n",
            "119 efficientnetv2-b1/blocks_13/tpu_batch_normalization_2/beta:0\n",
            "120 efficientnetv2-b1/blocks_14/conv2d/kernel:0\n",
            "121 efficientnetv2-b1/blocks_14/tpu_batch_normalization/gamma:0\n",
            "122 efficientnetv2-b1/blocks_14/tpu_batch_normalization/beta:0\n",
            "123 efficientnetv2-b1/blocks_14/depthwise_conv2d/depthwise_kernel:0\n",
            "124 efficientnetv2-b1/blocks_14/tpu_batch_normalization_1/gamma:0\n",
            "125 efficientnetv2-b1/blocks_14/tpu_batch_normalization_1/beta:0\n",
            "126 efficientnetv2-b1/blocks_14/se/conv2d/kernel:0\n",
            "127 efficientnetv2-b1/blocks_14/se/conv2d/bias:0\n",
            "128 efficientnetv2-b1/blocks_14/se/conv2d_1/kernel:0\n",
            "129 efficientnetv2-b1/blocks_14/se/conv2d_1/bias:0\n",
            "130 efficientnetv2-b1/blocks_14/conv2d_1/kernel:0\n",
            "131 efficientnetv2-b1/blocks_14/tpu_batch_normalization_2/gamma:0\n",
            "132 efficientnetv2-b1/blocks_14/tpu_batch_normalization_2/beta:0\n",
            "133 efficientnetv2-b1/blocks_15/conv2d/kernel:0\n",
            "134 efficientnetv2-b1/blocks_15/tpu_batch_normalization/gamma:0\n",
            "135 efficientnetv2-b1/blocks_15/tpu_batch_normalization/beta:0\n",
            "136 efficientnetv2-b1/blocks_15/depthwise_conv2d/depthwise_kernel:0\n",
            "137 efficientnetv2-b1/blocks_15/tpu_batch_normalization_1/gamma:0\n",
            "138 efficientnetv2-b1/blocks_15/tpu_batch_normalization_1/beta:0\n",
            "139 efficientnetv2-b1/blocks_15/se/conv2d/kernel:0\n",
            "140 efficientnetv2-b1/blocks_15/se/conv2d/bias:0\n",
            "141 efficientnetv2-b1/blocks_15/se/conv2d_1/kernel:0\n",
            "142 efficientnetv2-b1/blocks_15/se/conv2d_1/bias:0\n",
            "143 efficientnetv2-b1/blocks_15/conv2d_1/kernel:0\n",
            "144 efficientnetv2-b1/blocks_15/tpu_batch_normalization_2/gamma:0\n",
            "145 efficientnetv2-b1/blocks_15/tpu_batch_normalization_2/beta:0\n",
            "146 efficientnetv2-b1/blocks_16/conv2d/kernel:0\n",
            "147 efficientnetv2-b1/blocks_16/tpu_batch_normalization/gamma:0\n",
            "148 efficientnetv2-b1/blocks_16/tpu_batch_normalization/beta:0\n",
            "149 efficientnetv2-b1/blocks_16/depthwise_conv2d/depthwise_kernel:0\n",
            "150 efficientnetv2-b1/blocks_16/tpu_batch_normalization_1/gamma:0\n",
            "151 efficientnetv2-b1/blocks_16/tpu_batch_normalization_1/beta:0\n",
            "152 efficientnetv2-b1/blocks_16/se/conv2d/kernel:0\n",
            "153 efficientnetv2-b1/blocks_16/se/conv2d/bias:0\n",
            "154 efficientnetv2-b1/blocks_16/se/conv2d_1/kernel:0\n",
            "155 efficientnetv2-b1/blocks_16/se/conv2d_1/bias:0\n",
            "156 efficientnetv2-b1/blocks_16/conv2d_1/kernel:0\n",
            "157 efficientnetv2-b1/blocks_16/tpu_batch_normalization_2/gamma:0\n",
            "158 efficientnetv2-b1/blocks_16/tpu_batch_normalization_2/beta:0\n",
            "159 efficientnetv2-b1/blocks_17/conv2d/kernel:0\n",
            "160 efficientnetv2-b1/blocks_17/tpu_batch_normalization/gamma:0\n",
            "161 efficientnetv2-b1/blocks_17/tpu_batch_normalization/beta:0\n",
            "162 efficientnetv2-b1/blocks_17/depthwise_conv2d/depthwise_kernel:0\n",
            "163 efficientnetv2-b1/blocks_17/tpu_batch_normalization_1/gamma:0\n",
            "164 efficientnetv2-b1/blocks_17/tpu_batch_normalization_1/beta:0\n",
            "165 efficientnetv2-b1/blocks_17/se/conv2d/kernel:0\n",
            "166 efficientnetv2-b1/blocks_17/se/conv2d/bias:0\n",
            "167 efficientnetv2-b1/blocks_17/se/conv2d_1/kernel:0\n",
            "168 efficientnetv2-b1/blocks_17/se/conv2d_1/bias:0\n",
            "169 efficientnetv2-b1/blocks_17/conv2d_1/kernel:0\n",
            "170 efficientnetv2-b1/blocks_17/tpu_batch_normalization_2/gamma:0\n",
            "171 efficientnetv2-b1/blocks_17/tpu_batch_normalization_2/beta:0\n",
            "172 efficientnetv2-b1/blocks_18/conv2d/kernel:0\n",
            "173 efficientnetv2-b1/blocks_18/tpu_batch_normalization/gamma:0\n",
            "174 efficientnetv2-b1/blocks_18/tpu_batch_normalization/beta:0\n",
            "175 efficientnetv2-b1/blocks_18/depthwise_conv2d/depthwise_kernel:0\n",
            "176 efficientnetv2-b1/blocks_18/tpu_batch_normalization_1/gamma:0\n",
            "177 efficientnetv2-b1/blocks_18/tpu_batch_normalization_1/beta:0\n",
            "178 efficientnetv2-b1/blocks_18/se/conv2d/kernel:0\n",
            "179 efficientnetv2-b1/blocks_18/se/conv2d/bias:0\n",
            "180 efficientnetv2-b1/blocks_18/se/conv2d_1/kernel:0\n",
            "181 efficientnetv2-b1/blocks_18/se/conv2d_1/bias:0\n",
            "182 efficientnetv2-b1/blocks_18/conv2d_1/kernel:0\n",
            "183 efficientnetv2-b1/blocks_18/tpu_batch_normalization_2/gamma:0\n",
            "184 efficientnetv2-b1/blocks_18/tpu_batch_normalization_2/beta:0\n",
            "185 efficientnetv2-b1/blocks_19/conv2d/kernel:0\n",
            "186 efficientnetv2-b1/blocks_19/tpu_batch_normalization/gamma:0\n",
            "187 efficientnetv2-b1/blocks_19/tpu_batch_normalization/beta:0\n",
            "188 efficientnetv2-b1/blocks_19/depthwise_conv2d/depthwise_kernel:0\n",
            "189 efficientnetv2-b1/blocks_19/tpu_batch_normalization_1/gamma:0\n",
            "190 efficientnetv2-b1/blocks_19/tpu_batch_normalization_1/beta:0\n",
            "191 efficientnetv2-b1/blocks_19/se/conv2d/kernel:0\n",
            "192 efficientnetv2-b1/blocks_19/se/conv2d/bias:0\n",
            "193 efficientnetv2-b1/blocks_19/se/conv2d_1/kernel:0\n",
            "194 efficientnetv2-b1/blocks_19/se/conv2d_1/bias:0\n",
            "195 efficientnetv2-b1/blocks_19/conv2d_1/kernel:0\n",
            "196 efficientnetv2-b1/blocks_19/tpu_batch_normalization_2/gamma:0\n",
            "197 efficientnetv2-b1/blocks_19/tpu_batch_normalization_2/beta:0\n",
            "198 efficientnetv2-b1/blocks_20/conv2d/kernel:0\n",
            "199 efficientnetv2-b1/blocks_20/tpu_batch_normalization/gamma:0\n",
            "200 efficientnetv2-b1/blocks_20/tpu_batch_normalization/beta:0\n",
            "201 efficientnetv2-b1/blocks_20/depthwise_conv2d/depthwise_kernel:0\n",
            "202 efficientnetv2-b1/blocks_20/tpu_batch_normalization_1/gamma:0\n",
            "203 efficientnetv2-b1/blocks_20/tpu_batch_normalization_1/beta:0\n",
            "204 efficientnetv2-b1/blocks_20/se/conv2d/kernel:0\n",
            "205 efficientnetv2-b1/blocks_20/se/conv2d/bias:0\n",
            "206 efficientnetv2-b1/blocks_20/se/conv2d_1/kernel:0\n",
            "207 efficientnetv2-b1/blocks_20/se/conv2d_1/bias:0\n",
            "208 efficientnetv2-b1/blocks_20/conv2d_1/kernel:0\n",
            "209 efficientnetv2-b1/blocks_20/tpu_batch_normalization_2/gamma:0\n",
            "210 efficientnetv2-b1/blocks_20/tpu_batch_normalization_2/beta:0\n",
            "211 efficientnetv2-b1/blocks_21/conv2d/kernel:0\n",
            "212 efficientnetv2-b1/blocks_21/tpu_batch_normalization/gamma:0\n",
            "213 efficientnetv2-b1/blocks_21/tpu_batch_normalization/beta:0\n",
            "214 efficientnetv2-b1/blocks_21/depthwise_conv2d/depthwise_kernel:0\n",
            "215 efficientnetv2-b1/blocks_21/tpu_batch_normalization_1/gamma:0\n",
            "216 efficientnetv2-b1/blocks_21/tpu_batch_normalization_1/beta:0\n",
            "217 efficientnetv2-b1/blocks_21/se/conv2d/kernel:0\n",
            "218 efficientnetv2-b1/blocks_21/se/conv2d/bias:0\n",
            "219 efficientnetv2-b1/blocks_21/se/conv2d_1/kernel:0\n",
            "220 efficientnetv2-b1/blocks_21/se/conv2d_1/bias:0\n",
            "221 efficientnetv2-b1/blocks_21/conv2d_1/kernel:0\n",
            "222 efficientnetv2-b1/blocks_21/tpu_batch_normalization_2/gamma:0\n",
            "223 efficientnetv2-b1/blocks_21/tpu_batch_normalization_2/beta:0\n",
            "224 efficientnetv2-b1/blocks_22/conv2d/kernel:0\n",
            "225 efficientnetv2-b1/blocks_22/tpu_batch_normalization/gamma:0\n",
            "226 efficientnetv2-b1/blocks_22/tpu_batch_normalization/beta:0\n",
            "227 efficientnetv2-b1/blocks_22/depthwise_conv2d/depthwise_kernel:0\n",
            "228 efficientnetv2-b1/blocks_22/tpu_batch_normalization_1/gamma:0\n",
            "229 efficientnetv2-b1/blocks_22/tpu_batch_normalization_1/beta:0\n",
            "230 efficientnetv2-b1/blocks_22/se/conv2d/kernel:0\n",
            "231 efficientnetv2-b1/blocks_22/se/conv2d/bias:0\n",
            "232 efficientnetv2-b1/blocks_22/se/conv2d_1/kernel:0\n",
            "233 efficientnetv2-b1/blocks_22/se/conv2d_1/bias:0\n",
            "234 efficientnetv2-b1/blocks_22/conv2d_1/kernel:0\n",
            "235 efficientnetv2-b1/blocks_22/tpu_batch_normalization_2/gamma:0\n",
            "236 efficientnetv2-b1/blocks_22/tpu_batch_normalization_2/beta:0\n",
            "237 efficientnetv2-b1/blocks_23/conv2d/kernel:0\n",
            "238 efficientnetv2-b1/blocks_23/tpu_batch_normalization/gamma:0\n",
            "239 efficientnetv2-b1/blocks_23/tpu_batch_normalization/beta:0\n",
            "240 efficientnetv2-b1/blocks_23/depthwise_conv2d/depthwise_kernel:0\n",
            "241 efficientnetv2-b1/blocks_23/tpu_batch_normalization_1/gamma:0\n",
            "242 efficientnetv2-b1/blocks_23/tpu_batch_normalization_1/beta:0\n",
            "243 efficientnetv2-b1/blocks_23/se/conv2d/kernel:0\n",
            "244 efficientnetv2-b1/blocks_23/se/conv2d/bias:0\n",
            "245 efficientnetv2-b1/blocks_23/se/conv2d_1/kernel:0\n",
            "246 efficientnetv2-b1/blocks_23/se/conv2d_1/bias:0\n",
            "247 efficientnetv2-b1/blocks_23/conv2d_1/kernel:0\n",
            "248 efficientnetv2-b1/blocks_23/tpu_batch_normalization_2/gamma:0\n",
            "249 efficientnetv2-b1/blocks_23/tpu_batch_normalization_2/beta:0\n",
            "250 efficientnetv2-b1/blocks_24/conv2d/kernel:0\n",
            "251 efficientnetv2-b1/blocks_24/tpu_batch_normalization/gamma:0\n",
            "252 efficientnetv2-b1/blocks_24/tpu_batch_normalization/beta:0\n",
            "253 efficientnetv2-b1/blocks_24/depthwise_conv2d/depthwise_kernel:0\n",
            "254 efficientnetv2-b1/blocks_24/tpu_batch_normalization_1/gamma:0\n",
            "255 efficientnetv2-b1/blocks_24/tpu_batch_normalization_1/beta:0\n",
            "256 efficientnetv2-b1/blocks_24/se/conv2d/kernel:0\n",
            "257 efficientnetv2-b1/blocks_24/se/conv2d/bias:0\n",
            "258 efficientnetv2-b1/blocks_24/se/conv2d_1/kernel:0\n",
            "259 efficientnetv2-b1/blocks_24/se/conv2d_1/bias:0\n",
            "260 efficientnetv2-b1/blocks_24/conv2d_1/kernel:0\n",
            "261 efficientnetv2-b1/blocks_24/tpu_batch_normalization_2/gamma:0\n",
            "262 efficientnetv2-b1/blocks_24/tpu_batch_normalization_2/beta:0\n",
            "263 efficientnetv2-b1/blocks_25/conv2d/kernel:0\n",
            "264 efficientnetv2-b1/blocks_25/tpu_batch_normalization/gamma:0\n",
            "265 efficientnetv2-b1/blocks_25/tpu_batch_normalization/beta:0\n",
            "266 efficientnetv2-b1/blocks_25/depthwise_conv2d/depthwise_kernel:0\n",
            "267 efficientnetv2-b1/blocks_25/tpu_batch_normalization_1/gamma:0\n",
            "268 efficientnetv2-b1/blocks_25/tpu_batch_normalization_1/beta:0\n",
            "269 efficientnetv2-b1/blocks_25/se/conv2d/kernel:0\n",
            "270 efficientnetv2-b1/blocks_25/se/conv2d/bias:0\n",
            "271 efficientnetv2-b1/blocks_25/se/conv2d_1/kernel:0\n",
            "272 efficientnetv2-b1/blocks_25/se/conv2d_1/bias:0\n",
            "273 efficientnetv2-b1/blocks_25/conv2d_1/kernel:0\n",
            "274 efficientnetv2-b1/blocks_25/tpu_batch_normalization_2/gamma:0\n",
            "275 efficientnetv2-b1/blocks_25/tpu_batch_normalization_2/beta:0\n",
            "276 efficientnetv2-b1/blocks_26/conv2d/kernel:0\n",
            "277 efficientnetv2-b1/blocks_26/tpu_batch_normalization/gamma:0\n",
            "278 efficientnetv2-b1/blocks_26/tpu_batch_normalization/beta:0\n",
            "279 efficientnetv2-b1/blocks_26/depthwise_conv2d/depthwise_kernel:0\n",
            "280 efficientnetv2-b1/blocks_26/tpu_batch_normalization_1/gamma:0\n",
            "281 efficientnetv2-b1/blocks_26/tpu_batch_normalization_1/beta:0\n",
            "282 efficientnetv2-b1/blocks_26/se/conv2d/kernel:0\n",
            "283 efficientnetv2-b1/blocks_26/se/conv2d/bias:0\n",
            "284 efficientnetv2-b1/blocks_26/se/conv2d_1/kernel:0\n",
            "285 efficientnetv2-b1/blocks_26/se/conv2d_1/bias:0\n",
            "286 efficientnetv2-b1/blocks_26/conv2d_1/kernel:0\n",
            "287 efficientnetv2-b1/blocks_26/tpu_batch_normalization_2/gamma:0\n",
            "288 efficientnetv2-b1/blocks_26/tpu_batch_normalization_2/beta:0\n",
            "289 efficientnetv2-b1/stem/conv2d/kernel:0\n",
            "290 efficientnetv2-b1/stem/tpu_batch_normalization/gamma:0\n",
            "291 efficientnetv2-b1/stem/tpu_batch_normalization/beta:0\n",
            "292 efficientnetv2-b1/head/conv2d/kernel:0\n",
            "293 efficientnetv2-b1/head/tpu_batch_normalization/gamma:0\n",
            "294 efficientnetv2-b1/head/tpu_batch_normalization/beta:0\n",
            "295 efficientnetv2-b1/blocks_0/tpu_batch_normalization/moving_mean:0\n",
            "296 efficientnetv2-b1/blocks_0/tpu_batch_normalization/moving_variance:0\n",
            "297 efficientnetv2-b1/blocks_1/tpu_batch_normalization/moving_mean:0\n",
            "298 efficientnetv2-b1/blocks_1/tpu_batch_normalization/moving_variance:0\n",
            "299 efficientnetv2-b1/blocks_2/tpu_batch_normalization/moving_mean:0\n",
            "300 efficientnetv2-b1/blocks_2/tpu_batch_normalization/moving_variance:0\n",
            "301 efficientnetv2-b1/blocks_2/tpu_batch_normalization_1/moving_mean:0\n",
            "302 efficientnetv2-b1/blocks_2/tpu_batch_normalization_1/moving_variance:0\n",
            "303 efficientnetv2-b1/blocks_3/tpu_batch_normalization/moving_mean:0\n",
            "304 efficientnetv2-b1/blocks_3/tpu_batch_normalization/moving_variance:0\n",
            "305 efficientnetv2-b1/blocks_3/tpu_batch_normalization_1/moving_mean:0\n",
            "306 efficientnetv2-b1/blocks_3/tpu_batch_normalization_1/moving_variance:0\n",
            "307 efficientnetv2-b1/blocks_4/tpu_batch_normalization/moving_mean:0\n",
            "308 efficientnetv2-b1/blocks_4/tpu_batch_normalization/moving_variance:0\n",
            "309 efficientnetv2-b1/blocks_4/tpu_batch_normalization_1/moving_mean:0\n",
            "310 efficientnetv2-b1/blocks_4/tpu_batch_normalization_1/moving_variance:0\n",
            "311 efficientnetv2-b1/blocks_5/tpu_batch_normalization/moving_mean:0\n",
            "312 efficientnetv2-b1/blocks_5/tpu_batch_normalization/moving_variance:0\n",
            "313 efficientnetv2-b1/blocks_5/tpu_batch_normalization_1/moving_mean:0\n",
            "314 efficientnetv2-b1/blocks_5/tpu_batch_normalization_1/moving_variance:0\n",
            "315 efficientnetv2-b1/blocks_6/tpu_batch_normalization/moving_mean:0\n",
            "316 efficientnetv2-b1/blocks_6/tpu_batch_normalization/moving_variance:0\n",
            "317 efficientnetv2-b1/blocks_6/tpu_batch_normalization_1/moving_mean:0\n",
            "318 efficientnetv2-b1/blocks_6/tpu_batch_normalization_1/moving_variance:0\n",
            "319 efficientnetv2-b1/blocks_7/tpu_batch_normalization/moving_mean:0\n",
            "320 efficientnetv2-b1/blocks_7/tpu_batch_normalization/moving_variance:0\n",
            "321 efficientnetv2-b1/blocks_7/tpu_batch_normalization_1/moving_mean:0\n",
            "322 efficientnetv2-b1/blocks_7/tpu_batch_normalization_1/moving_variance:0\n",
            "323 efficientnetv2-b1/blocks_8/tpu_batch_normalization/moving_mean:0\n",
            "324 efficientnetv2-b1/blocks_8/tpu_batch_normalization/moving_variance:0\n",
            "325 efficientnetv2-b1/blocks_8/tpu_batch_normalization_1/moving_mean:0\n",
            "326 efficientnetv2-b1/blocks_8/tpu_batch_normalization_1/moving_variance:0\n",
            "327 efficientnetv2-b1/blocks_8/tpu_batch_normalization_2/moving_mean:0\n",
            "328 efficientnetv2-b1/blocks_8/tpu_batch_normalization_2/moving_variance:0\n",
            "329 efficientnetv2-b1/blocks_9/tpu_batch_normalization/moving_mean:0\n",
            "330 efficientnetv2-b1/blocks_9/tpu_batch_normalization/moving_variance:0\n",
            "331 efficientnetv2-b1/blocks_9/tpu_batch_normalization_1/moving_mean:0\n",
            "332 efficientnetv2-b1/blocks_9/tpu_batch_normalization_1/moving_variance:0\n",
            "333 efficientnetv2-b1/blocks_9/tpu_batch_normalization_2/moving_mean:0\n",
            "334 efficientnetv2-b1/blocks_9/tpu_batch_normalization_2/moving_variance:0\n",
            "335 efficientnetv2-b1/blocks_10/tpu_batch_normalization/moving_mean:0\n",
            "336 efficientnetv2-b1/blocks_10/tpu_batch_normalization/moving_variance:0\n",
            "337 efficientnetv2-b1/blocks_10/tpu_batch_normalization_1/moving_mean:0\n",
            "338 efficientnetv2-b1/blocks_10/tpu_batch_normalization_1/moving_variance:0\n",
            "339 efficientnetv2-b1/blocks_10/tpu_batch_normalization_2/moving_mean:0\n",
            "340 efficientnetv2-b1/blocks_10/tpu_batch_normalization_2/moving_variance:0\n",
            "341 efficientnetv2-b1/blocks_11/tpu_batch_normalization/moving_mean:0\n",
            "342 efficientnetv2-b1/blocks_11/tpu_batch_normalization/moving_variance:0\n",
            "343 efficientnetv2-b1/blocks_11/tpu_batch_normalization_1/moving_mean:0\n",
            "344 efficientnetv2-b1/blocks_11/tpu_batch_normalization_1/moving_variance:0\n",
            "345 efficientnetv2-b1/blocks_11/tpu_batch_normalization_2/moving_mean:0\n",
            "346 efficientnetv2-b1/blocks_11/tpu_batch_normalization_2/moving_variance:0\n",
            "347 efficientnetv2-b1/blocks_12/tpu_batch_normalization/moving_mean:0\n",
            "348 efficientnetv2-b1/blocks_12/tpu_batch_normalization/moving_variance:0\n",
            "349 efficientnetv2-b1/blocks_12/tpu_batch_normalization_1/moving_mean:0\n",
            "350 efficientnetv2-b1/blocks_12/tpu_batch_normalization_1/moving_variance:0\n",
            "351 efficientnetv2-b1/blocks_12/tpu_batch_normalization_2/moving_mean:0\n",
            "352 efficientnetv2-b1/blocks_12/tpu_batch_normalization_2/moving_variance:0\n",
            "353 efficientnetv2-b1/blocks_13/tpu_batch_normalization/moving_mean:0\n",
            "354 efficientnetv2-b1/blocks_13/tpu_batch_normalization/moving_variance:0\n",
            "355 efficientnetv2-b1/blocks_13/tpu_batch_normalization_1/moving_mean:0\n",
            "356 efficientnetv2-b1/blocks_13/tpu_batch_normalization_1/moving_variance:0\n",
            "357 efficientnetv2-b1/blocks_13/tpu_batch_normalization_2/moving_mean:0\n",
            "358 efficientnetv2-b1/blocks_13/tpu_batch_normalization_2/moving_variance:0\n",
            "359 efficientnetv2-b1/blocks_14/tpu_batch_normalization/moving_mean:0\n",
            "360 efficientnetv2-b1/blocks_14/tpu_batch_normalization/moving_variance:0\n",
            "361 efficientnetv2-b1/blocks_14/tpu_batch_normalization_1/moving_mean:0\n",
            "362 efficientnetv2-b1/blocks_14/tpu_batch_normalization_1/moving_variance:0\n",
            "363 efficientnetv2-b1/blocks_14/tpu_batch_normalization_2/moving_mean:0\n",
            "364 efficientnetv2-b1/blocks_14/tpu_batch_normalization_2/moving_variance:0\n",
            "365 efficientnetv2-b1/blocks_15/tpu_batch_normalization/moving_mean:0\n",
            "366 efficientnetv2-b1/blocks_15/tpu_batch_normalization/moving_variance:0\n",
            "367 efficientnetv2-b1/blocks_15/tpu_batch_normalization_1/moving_mean:0\n",
            "368 efficientnetv2-b1/blocks_15/tpu_batch_normalization_1/moving_variance:0\n",
            "369 efficientnetv2-b1/blocks_15/tpu_batch_normalization_2/moving_mean:0\n",
            "370 efficientnetv2-b1/blocks_15/tpu_batch_normalization_2/moving_variance:0\n",
            "371 efficientnetv2-b1/blocks_16/tpu_batch_normalization/moving_mean:0\n",
            "372 efficientnetv2-b1/blocks_16/tpu_batch_normalization/moving_variance:0\n",
            "373 efficientnetv2-b1/blocks_16/tpu_batch_normalization_1/moving_mean:0\n",
            "374 efficientnetv2-b1/blocks_16/tpu_batch_normalization_1/moving_variance:0\n",
            "375 efficientnetv2-b1/blocks_16/tpu_batch_normalization_2/moving_mean:0\n",
            "376 efficientnetv2-b1/blocks_16/tpu_batch_normalization_2/moving_variance:0\n",
            "377 efficientnetv2-b1/blocks_17/tpu_batch_normalization/moving_mean:0\n",
            "378 efficientnetv2-b1/blocks_17/tpu_batch_normalization/moving_variance:0\n",
            "379 efficientnetv2-b1/blocks_17/tpu_batch_normalization_1/moving_mean:0\n",
            "380 efficientnetv2-b1/blocks_17/tpu_batch_normalization_1/moving_variance:0\n",
            "381 efficientnetv2-b1/blocks_17/tpu_batch_normalization_2/moving_mean:0\n",
            "382 efficientnetv2-b1/blocks_17/tpu_batch_normalization_2/moving_variance:0\n",
            "383 efficientnetv2-b1/blocks_18/tpu_batch_normalization/moving_mean:0\n",
            "384 efficientnetv2-b1/blocks_18/tpu_batch_normalization/moving_variance:0\n",
            "385 efficientnetv2-b1/blocks_18/tpu_batch_normalization_1/moving_mean:0\n",
            "386 efficientnetv2-b1/blocks_18/tpu_batch_normalization_1/moving_variance:0\n",
            "387 efficientnetv2-b1/blocks_18/tpu_batch_normalization_2/moving_mean:0\n",
            "388 efficientnetv2-b1/blocks_18/tpu_batch_normalization_2/moving_variance:0\n",
            "389 efficientnetv2-b1/blocks_19/tpu_batch_normalization/moving_mean:0\n",
            "390 efficientnetv2-b1/blocks_19/tpu_batch_normalization/moving_variance:0\n",
            "391 efficientnetv2-b1/blocks_19/tpu_batch_normalization_1/moving_mean:0\n",
            "392 efficientnetv2-b1/blocks_19/tpu_batch_normalization_1/moving_variance:0\n",
            "393 efficientnetv2-b1/blocks_19/tpu_batch_normalization_2/moving_mean:0\n",
            "394 efficientnetv2-b1/blocks_19/tpu_batch_normalization_2/moving_variance:0\n",
            "395 efficientnetv2-b1/blocks_20/tpu_batch_normalization/moving_mean:0\n",
            "396 efficientnetv2-b1/blocks_20/tpu_batch_normalization/moving_variance:0\n",
            "397 efficientnetv2-b1/blocks_20/tpu_batch_normalization_1/moving_mean:0\n",
            "398 efficientnetv2-b1/blocks_20/tpu_batch_normalization_1/moving_variance:0\n",
            "399 efficientnetv2-b1/blocks_20/tpu_batch_normalization_2/moving_mean:0\n",
            "400 efficientnetv2-b1/blocks_20/tpu_batch_normalization_2/moving_variance:0\n",
            "401 efficientnetv2-b1/blocks_21/tpu_batch_normalization/moving_mean:0\n",
            "402 efficientnetv2-b1/blocks_21/tpu_batch_normalization/moving_variance:0\n",
            "403 efficientnetv2-b1/blocks_21/tpu_batch_normalization_1/moving_mean:0\n",
            "404 efficientnetv2-b1/blocks_21/tpu_batch_normalization_1/moving_variance:0\n",
            "405 efficientnetv2-b1/blocks_21/tpu_batch_normalization_2/moving_mean:0\n",
            "406 efficientnetv2-b1/blocks_21/tpu_batch_normalization_2/moving_variance:0\n",
            "407 efficientnetv2-b1/blocks_22/tpu_batch_normalization/moving_mean:0\n",
            "408 efficientnetv2-b1/blocks_22/tpu_batch_normalization/moving_variance:0\n",
            "409 efficientnetv2-b1/blocks_22/tpu_batch_normalization_1/moving_mean:0\n",
            "410 efficientnetv2-b1/blocks_22/tpu_batch_normalization_1/moving_variance:0\n",
            "411 efficientnetv2-b1/blocks_22/tpu_batch_normalization_2/moving_mean:0\n",
            "412 efficientnetv2-b1/blocks_22/tpu_batch_normalization_2/moving_variance:0\n",
            "413 efficientnetv2-b1/blocks_23/tpu_batch_normalization/moving_mean:0\n",
            "414 efficientnetv2-b1/blocks_23/tpu_batch_normalization/moving_variance:0\n",
            "415 efficientnetv2-b1/blocks_23/tpu_batch_normalization_1/moving_mean:0\n",
            "416 efficientnetv2-b1/blocks_23/tpu_batch_normalization_1/moving_variance:0\n",
            "417 efficientnetv2-b1/blocks_23/tpu_batch_normalization_2/moving_mean:0\n",
            "418 efficientnetv2-b1/blocks_23/tpu_batch_normalization_2/moving_variance:0\n",
            "419 efficientnetv2-b1/blocks_24/tpu_batch_normalization/moving_mean:0\n",
            "420 efficientnetv2-b1/blocks_24/tpu_batch_normalization/moving_variance:0\n",
            "421 efficientnetv2-b1/blocks_24/tpu_batch_normalization_1/moving_mean:0\n",
            "422 efficientnetv2-b1/blocks_24/tpu_batch_normalization_1/moving_variance:0\n",
            "423 efficientnetv2-b1/blocks_24/tpu_batch_normalization_2/moving_mean:0\n",
            "424 efficientnetv2-b1/blocks_24/tpu_batch_normalization_2/moving_variance:0\n",
            "425 efficientnetv2-b1/blocks_25/tpu_batch_normalization/moving_mean:0\n",
            "426 efficientnetv2-b1/blocks_25/tpu_batch_normalization/moving_variance:0\n",
            "427 efficientnetv2-b1/blocks_25/tpu_batch_normalization_1/moving_mean:0\n",
            "428 efficientnetv2-b1/blocks_25/tpu_batch_normalization_1/moving_variance:0\n",
            "429 efficientnetv2-b1/blocks_25/tpu_batch_normalization_2/moving_mean:0\n",
            "430 efficientnetv2-b1/blocks_25/tpu_batch_normalization_2/moving_variance:0\n",
            "431 efficientnetv2-b1/blocks_26/tpu_batch_normalization/moving_mean:0\n",
            "432 efficientnetv2-b1/blocks_26/tpu_batch_normalization/moving_variance:0\n",
            "433 efficientnetv2-b1/blocks_26/tpu_batch_normalization_1/moving_mean:0\n",
            "434 efficientnetv2-b1/blocks_26/tpu_batch_normalization_1/moving_variance:0\n",
            "435 efficientnetv2-b1/blocks_26/tpu_batch_normalization_2/moving_mean:0\n",
            "436 efficientnetv2-b1/blocks_26/tpu_batch_normalization_2/moving_variance:0\n",
            "437 efficientnetv2-b1/stem/tpu_batch_normalization/moving_mean:0\n",
            "438 efficientnetv2-b1/stem/tpu_batch_normalization/moving_variance:0\n",
            "439 efficientnetv2-b1/head/tpu_batch_normalization/moving_mean:0\n",
            "440 efficientnetv2-b1/head/tpu_batch_normalization/moving_variance:0\n",
            "441 dense/kernel:0\n",
            "442 dense/bias:0\n"
          ]
        }
      ],
      "source": [
        "for i, weights in enumerate(model.weights):\n",
        "    print(i, weights.name)\n"
      ]
    },
    {
      "cell_type": "code",
      "execution_count": null,
      "metadata": {
        "colab": {
          "base_uri": "https://localhost:8080/"
        },
        "id": "WasWF6piFPMn",
        "outputId": "3a8c6efd-8d71-46d5-ad1e-940d330ac5a1"
      },
      "outputs": [
        {
          "output_type": "stream",
          "name": "stdout",
          "text": [
            "Number of layers in the base model:  3\n"
          ]
        }
      ],
      "source": [
        "print(\"Number of layers in the base model: \", len( model.layers))"
      ]
    },
    {
      "cell_type": "code",
      "source": [
        "optimizer = model.optimizer\n",
        "print(model.optimizer.lr)"
      ],
      "metadata": {
        "colab": {
          "base_uri": "https://localhost:8080/"
        },
        "id": "pIr_wULG6IIq",
        "outputId": "3f99732f-54ad-4ac0-bf93-3ae7064b339f"
      },
      "execution_count": null,
      "outputs": [
        {
          "output_type": "stream",
          "name": "stdout",
          "text": [
            "<tf.Variable 'learning_rate:0' shape=() dtype=float32, numpy=0.001>\n"
          ]
        }
      ]
    },
    {
      "cell_type": "code",
      "source": [
        "\n",
        "new_lr = optimizer.lr * 0.1\n",
        "optimizer.lr.assign(new_lr)\n",
        "print(model.optimizer.lr)"
      ],
      "metadata": {
        "id": "D9sgwpYjPrR3",
        "colab": {
          "base_uri": "https://localhost:8080/"
        },
        "outputId": "c56a76ad-b036-440e-d4a5-8259a601dac0"
      },
      "execution_count": null,
      "outputs": [
        {
          "output_type": "stream",
          "name": "stdout",
          "text": [
            "<tf.Variable 'learning_rate:0' shape=() dtype=float32, numpy=0.000100000005>\n"
          ]
        }
      ]
    }
  ],
  "metadata": {
    "accelerator": "GPU",
    "colab": {
      "provenance": [],
      "include_colab_link": true
    },
    "kernelspec": {
      "display_name": "Python 3",
      "name": "python3"
    }
  },
  "nbformat": 4,
  "nbformat_minor": 0
}